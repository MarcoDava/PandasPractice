{
 "cells": [
  {
   "cell_type": "code",
   "execution_count": 2,
   "id": "78295885-72cd-4221-a66b-329c23474f8e",
   "metadata": {},
   "outputs": [
    {
     "data": {
      "text/plain": [
       "'2.2.3'"
      ]
     },
     "execution_count": 2,
     "metadata": {},
     "output_type": "execute_result"
    }
   ],
   "source": [
    "import pandas as pd\n",
    "pd.__version__"
   ]
  },
  {
   "cell_type": "code",
   "execution_count": 3,
   "id": "1c566d5f-7cb8-42f4-bfe6-cbfed300f6ef",
   "metadata": {},
   "outputs": [
    {
     "data": {
      "text/plain": [
       "0       1\n",
       "1    John\n",
       "2     3.5\n",
       "3     Hey\n",
       "dtype: object"
      ]
     },
     "execution_count": 3,
     "metadata": {},
     "output_type": "execute_result"
    }
   ],
   "source": [
    "obj=pd.Series([1,\"John\",3.5,\"Hey\"])\n",
    "obj#Series is a one dimensional object that represents a \"row\""
   ]
  },
  {
   "cell_type": "code",
   "execution_count": 4,
   "id": "467a4a04-549c-4018-ab37-ae6b9b9ca77d",
   "metadata": {},
   "outputs": [
    {
     "data": {
      "text/plain": [
       "1"
      ]
     },
     "execution_count": 4,
     "metadata": {},
     "output_type": "execute_result"
    }
   ],
   "source": [
    "obj[0]"
   ]
  },
  {
   "cell_type": "code",
   "execution_count": 5,
   "id": "44fadc01-b8a4-48ec-a7cb-f3a7aec713b3",
   "metadata": {},
   "outputs": [
    {
     "data": {
      "text/plain": [
       "array([1, 'John', 3.5, 'Hey'], dtype=object)"
      ]
     },
     "execution_count": 5,
     "metadata": {},
     "output_type": "execute_result"
    }
   ],
   "source": [
    "obj.values"
   ]
  },
  {
   "cell_type": "code",
   "execution_count": 6,
   "id": "72b4c52f-be56-45f0-a61e-e441f0b8864d",
   "metadata": {},
   "outputs": [
    {
     "data": {
      "text/plain": [
       "a       1\n",
       "b    John\n",
       "c     3.5\n",
       "d     Hey\n",
       "dtype: object"
      ]
     },
     "execution_count": 6,
     "metadata": {},
     "output_type": "execute_result"
    }
   ],
   "source": [
    "obj2=pd.Series([1,\"John\",3.5,\"Hey\"],index=[\"a\",\"b\",\"c\",\"d\"])\n",
    "obj2"
   ]
  },
  {
   "cell_type": "code",
   "execution_count": 8,
   "id": "0133bac8-94b3-42d9-8bab-6ef569392730",
   "metadata": {
    "collapsed": true,
    "jupyter": {
     "outputs_hidden": true
    }
   },
   "outputs": [
    {
     "data": {
      "text/plain": [
       "'John'"
      ]
     },
     "execution_count": 8,
     "metadata": {},
     "output_type": "execute_result"
    }
   ],
   "source": [
    "obj2[\"b\"]"
   ]
  },
  {
   "cell_type": "code",
   "execution_count": 11,
   "id": "da6dc5f9-29b1-455c-8ca7-527a7bcfa7fd",
   "metadata": {},
   "outputs": [
    {
     "data": {
      "text/plain": [
       "Index(['a', 'b', 'c', 'd'], dtype='object')"
      ]
     },
     "execution_count": 11,
     "metadata": {},
     "output_type": "execute_result"
    }
   ],
   "source": [
    "obj2.index#dtype describes how the values are stored, in this case they are stored as objects"
   ]
  },
  {
   "cell_type": "code",
   "execution_count": 13,
   "id": "6bc01ff2-e98d-4e97-bfcb-e7f2caaa66b8",
   "metadata": {},
   "outputs": [
    {
     "data": {
      "text/plain": [
       "Jane    90\n",
       "Bill    80\n",
       "Elon    85\n",
       "Tom     75\n",
       "Tim     95\n",
       "dtype: int64"
      ]
     },
     "execution_count": 13,
     "metadata": {},
     "output_type": "execute_result"
    }
   ],
   "source": [
    "score={\"Jane\":90,\"Bill\":80,\"Elon\":85,\"Tom\":75,\"Tim\":95}\n",
    "names=pd.Series(score)# converts lists into series\n",
    "names"
   ]
  },
  {
   "cell_type": "code",
   "execution_count": 14,
   "id": "9a8b3b48-8ca2-4f22-a593-fafefa5298e4",
   "metadata": {},
   "outputs": [
    {
     "data": {
      "text/plain": [
       "np.int64(95)"
      ]
     },
     "execution_count": 14,
     "metadata": {},
     "output_type": "execute_result"
    }
   ],
   "source": [
    "names[\"Tim\"]"
   ]
  },
  {
   "cell_type": "code",
   "execution_count": 15,
   "id": "183a63c8-ca9c-41ed-833f-1e529f67a39c",
   "metadata": {},
   "outputs": [
    {
     "data": {
      "text/plain": [
       "Jane    90\n",
       "Elon    85\n",
       "Tim     95\n",
       "dtype: int64"
      ]
     },
     "execution_count": 15,
     "metadata": {},
     "output_type": "execute_result"
    }
   ],
   "source": [
    "names[names>=85]# serves as a filter for only values that are greater that"
   ]
  },
  {
   "cell_type": "code",
   "execution_count": null,
   "id": "215eed32-30dc-4dad-8ad6-875add7706d6",
   "metadata": {},
   "outputs": [],
   "source": []
  }
 ],
 "metadata": {
  "kernelspec": {
   "display_name": "Python 3 (ipykernel)",
   "language": "python",
   "name": "python3"
  },
  "language_info": {
   "codemirror_mode": {
    "name": "ipython",
    "version": 3
   },
   "file_extension": ".py",
   "mimetype": "text/x-python",
   "name": "python",
   "nbconvert_exporter": "python",
   "pygments_lexer": "ipython3",
   "version": "3.13.2"
  }
 },
 "nbformat": 4,
 "nbformat_minor": 5
}
