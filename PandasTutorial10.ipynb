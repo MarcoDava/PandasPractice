{
 "cells": [
  {
   "cell_type": "code",
   "execution_count": 2,
   "id": "e39b6fe6-6751-40ce-a578-4d01c128ea50",
   "metadata": {},
   "outputs": [],
   "source": [
    "import numpy as np\n",
    "import pandas as pd"
   ]
  },
  {
   "cell_type": "code",
   "execution_count": 3,
   "id": "37fe4efb-dd87-449f-9234-cf56aaf115f8",
   "metadata": {},
   "outputs": [
    {
     "data": {
      "text/plain": [
       "a  1    1.409418\n",
       "   2   -0.143090\n",
       "   3   -0.269600\n",
       "b  1   -0.822790\n",
       "   2   -1.330134\n",
       "   3   -0.381861\n",
       "c  1   -1.662823\n",
       "   2   -0.002265\n",
       "dtype: float64"
      ]
     },
     "execution_count": 3,
     "metadata": {},
     "output_type": "execute_result"
    }
   ],
   "source": [
    "data=pd.Series(np.random.randn(8),index=[[\"a\",\"a\",\"a\",\"b\",\"b\",\"b\",\"c\",\"c\"],[1,2,3,1,2,3,1,2]])\n",
    "data"
   ]
  },
  {
   "cell_type": "code",
   "execution_count": 4,
   "id": "1bdfec5b-0ad1-4693-a011-8b6121f21398",
   "metadata": {},
   "outputs": [
    {
     "data": {
      "text/plain": [
       "MultiIndex([('a', 1),\n",
       "            ('a', 2),\n",
       "            ('a', 3),\n",
       "            ('b', 1),\n",
       "            ('b', 2),\n",
       "            ('b', 3),\n",
       "            ('c', 1),\n",
       "            ('c', 2)],\n",
       "           )"
      ]
     },
     "execution_count": 4,
     "metadata": {},
     "output_type": "execute_result"
    }
   ],
   "source": [
    "data.index"
   ]
  },
  {
   "cell_type": "code",
   "execution_count": 5,
   "id": "78fc4b93-675d-4115-aa42-199f3d1a979a",
   "metadata": {},
   "outputs": [
    {
     "data": {
      "text/plain": [
       "1    1.409418\n",
       "2   -0.143090\n",
       "3   -0.269600\n",
       "dtype: float64"
      ]
     },
     "execution_count": 5,
     "metadata": {},
     "output_type": "execute_result"
    }
   ],
   "source": [
    "data[\"a\"]"
   ]
  },
  {
   "cell_type": "code",
   "execution_count": 6,
   "id": "5cfca598-f9d4-4a8d-a031-b7a2f8ef8ab2",
   "metadata": {},
   "outputs": [
    {
     "data": {
      "text/plain": [
       "b  1   -0.822790\n",
       "   2   -1.330134\n",
       "   3   -0.381861\n",
       "c  1   -1.662823\n",
       "   2   -0.002265\n",
       "dtype: float64"
      ]
     },
     "execution_count": 6,
     "metadata": {},
     "output_type": "execute_result"
    }
   ],
   "source": [
    "data[\"b\":\"c\"]"
   ]
  },
  {
   "cell_type": "code",
   "execution_count": 7,
   "id": "379fa4a9-ee55-44cd-97a1-1038a96fc202",
   "metadata": {},
   "outputs": [
    {
     "data": {
      "text/plain": [
       "a  1    1.409418\n",
       "   2   -0.143090\n",
       "   3   -0.269600\n",
       "c  1   -1.662823\n",
       "   2   -0.002265\n",
       "dtype: float64"
      ]
     },
     "execution_count": 7,
     "metadata": {},
     "output_type": "execute_result"
    }
   ],
   "source": [
    "data.loc[[\"a\",\"c\"]]"
   ]
  },
  {
   "cell_type": "code",
   "execution_count": null,
   "id": "236b0199-41d4-4c91-8741-d1494945fce9",
   "metadata": {},
   "outputs": [],
   "source": []
  }
 ],
 "metadata": {
  "kernelspec": {
   "display_name": "Python 3 (ipykernel)",
   "language": "python",
   "name": "python3"
  },
  "language_info": {
   "codemirror_mode": {
    "name": "ipython",
    "version": 3
   },
   "file_extension": ".py",
   "mimetype": "text/x-python",
   "name": "python",
   "nbconvert_exporter": "python",
   "pygments_lexer": "ipython3",
   "version": "3.13.2"
  }
 },
 "nbformat": 4,
 "nbformat_minor": 5
}
